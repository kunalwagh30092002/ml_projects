{
  "nbformat": 4,
  "nbformat_minor": 0,
  "metadata": {
    "colab": {
      "provenance": []
    },
    "kernelspec": {
      "display_name": "Python 3",
      "name": "python3"
    },
    "language_info": {
      "name": "python"
    },
    "accelerator": "GPU",
    "gpuClass": "standard"
  },
  "cells": [
    {
      "cell_type": "code",
      "metadata": {
        "id": "5YsCVDY_duOI"
      },
      "source": [
        "from google.colab import drive"
      ],
      "execution_count": null,
      "outputs": []
    },
    {
      "cell_type": "code",
      "metadata": {
        "id": "Ic_gPpQxd5Px",
        "colab": {
          "base_uri": "https://localhost:8080/"
        },
        "outputId": "d4a6226d-bb24-49b2-fd22-a4e5e2e35822"
      },
      "source": [
        "drive.mount('/content/gdrive')"
      ],
      "execution_count": null,
      "outputs": [
        {
          "output_type": "stream",
          "name": "stdout",
          "text": [
            "Mounted at /content/gdrive\n"
          ]
        }
      ]
    },
    {
      "cell_type": "markdown",
      "source": [
        "# New Section"
      ],
      "metadata": {
        "id": "Rjg0t-Dyjfdv"
      }
    },
    {
      "cell_type": "code",
      "metadata": {
        "id": "9D6nzryzeDJg"
      },
      "source": [
        "import tensorflow as tf\n",
        "from tensorflow.keras.preprocessing.image import ImageDataGenerator"
      ],
      "execution_count": null,
      "outputs": []
    },
    {
      "cell_type": "code",
      "metadata": {
        "colab": {
          "base_uri": "https://localhost:8080/"
        },
        "id": "rUMYsKYSeMQX",
        "outputId": "dab618ce-7e53-4883-ca7e-e683b807a1c3"
      },
      "source": [
        "# Checking if i have GPU Enabled\n",
        "tf.config.list_physical_devices('GPU')"
      ],
      "execution_count": null,
      "outputs": [
        {
          "output_type": "execute_result",
          "data": {
            "text/plain": [
              "[PhysicalDevice(name='/physical_device:GPU:0', device_type='GPU')]"
            ]
          },
          "metadata": {},
          "execution_count": 5
        }
      ]
    },
    {
      "cell_type": "code",
      "metadata": {
        "colab": {
          "base_uri": "https://localhost:8080/"
        },
        "id": "WkMg_nsbsJXx",
        "outputId": "48ff128e-751e-4082-e843-4deab7a8a044"
      },
      "source": [
        "tf.test.is_gpu_available()"
      ],
      "execution_count": null,
      "outputs": [
        {
          "output_type": "stream",
          "name": "stderr",
          "text": [
            "WARNING:tensorflow:From <ipython-input-6-17bb7203622b>:1: is_gpu_available (from tensorflow.python.framework.test_util) is deprecated and will be removed in a future version.\n",
            "Instructions for updating:\n",
            "Use `tf.config.list_physical_devices('GPU')` instead.\n"
          ]
        },
        {
          "output_type": "execute_result",
          "data": {
            "text/plain": [
              "True"
            ]
          },
          "metadata": {},
          "execution_count": 6
        }
      ]
    },
    {
      "cell_type": "code",
      "metadata": {
        "id": "gcpqocfyeQ6O"
      },
      "source": [
        " # 2 very important preprocessing is Resizing and Rescaling\n",
        "batch_size = 32"
      ],
      "execution_count": null,
      "outputs": []
    },
    {
      "cell_type": "code",
      "metadata": {
        "id": "0zy6U-aY9nzC"
      },
      "source": [
        "training_datagenarator= ImageDataGenerator(rescale=1./255,horizontal_flip=True,\n",
        "    vertical_flip=True,shear_range=0.2,\n",
        "    zoom_range=0.2,width_shift_range=0.2,\n",
        "    height_shift_range=0.2,validation_split=0.1)\n",
        "\n",
        "test_datagen= ImageDataGenerator(rescale=1./255,horizontal_flip=True,\n",
        "    vertical_flip=True,shear_range=0.2,\n",
        "    zoom_range=0.2,width_shift_range=0.2)\n",
        "\n",
        "#training_datagenarator"
      ],
      "execution_count": null,
      "outputs": []
    },
    {
      "cell_type": "code",
      "metadata": {
        "id": "ccND2qD9eakf",
        "outputId": "252f2c5a-f6a0-4edc-e355-a11d9811a4f2",
        "colab": {
          "base_uri": "https://localhost:8080/"
        }
      },
      "source": [
        "# dividing the data into training and validation\n",
        "train=training_datagenarator.flow_from_directory('/content/gdrive/MyDrive/DisasterModel/train', target_size=(224, 224),color_mode='rgb', class_mode='categorical', batch_size=batch_size,subset='training')\n",
        "\n",
        "validation=training_datagenarator.flow_from_directory('/content/gdrive/MyDrive/DisasterModel/train', target_size=(224, 224),color_mode='rgb', class_mode='categorical', batch_size=batch_size,subset='validation')\n",
        "\n",
        "#test = test_datagen.flow_from_directory('/content/gdrive/MyDrive/DisasterModel/test', target_size=(224, 224),color_mode='rgb', class_mode='categorical', batch_size=batch_size,shuffle=False)"
      ],
      "execution_count": null,
      "outputs": [
        {
          "output_type": "stream",
          "name": "stdout",
          "text": [
            "Found 1253 images belonging to 2 classes.\n",
            "Found 139 images belonging to 2 classes.\n"
          ]
        }
      ]
    },
    {
      "cell_type": "code",
      "metadata": {
        "id": "KoClkWnih2zG"
      },
      "source": [
        "from tensorflow.keras.layers import Dense, Activation, Flatten, Dropout, BatchNormalization"
      ],
      "execution_count": null,
      "outputs": []
    },
    {
      "cell_type": "code",
      "metadata": {
        "id": "HYF-iXFFitA_"
      },
      "source": [
        "# Initializing CNN\n",
        "cnn=tf.keras.models.Sequential()\n",
        "\n",
        "# adding first layer\n",
        "cnn.add(tf.keras.layers.Conv2D(filters=32,kernel_size=3,padding='same',activation='relu',input_shape=[224,224,3]))\n",
        "cnn.add(tf.keras.layers.MaxPool2D(pool_size=2))\n",
        "cnn.add(Dropout(0.25))\n",
        "# adding second layer\n",
        "cnn.add(tf.keras.layers.Conv2D(filters=64,kernel_size=3,padding='same',activation='relu'))\n",
        "cnn.add(tf.keras.layers.MaxPool2D(pool_size=2))\n",
        "cnn.add(Dropout(0.25))\n",
        "\n",
        "cnn.add(tf.keras.layers.Conv2D(filters=64,kernel_size=3,padding='same',activation='relu'))\n",
        "cnn.add(tf.keras.layers.MaxPool2D(pool_size=2))\n",
        "cnn.add(Dropout(0.25))\n",
        "\n",
        "cnn.add(tf.keras.layers.Conv2D(filters=128,kernel_size=3,padding='same',activation='relu'))\n",
        "cnn.add(tf.keras.layers.MaxPool2D(pool_size=2))\n",
        "cnn.add(Dropout(0.25))\n",
        "\n",
        "# adding third layer Extra layer added\n",
        "cnn.add(tf.keras.layers.Conv2D(filters=256,kernel_size=3,padding='same',activation='relu'))\n",
        "cnn.add(tf.keras.layers.MaxPool2D(pool_size=1))\n",
        "cnn.add(Dropout(0.25))\n",
        "\n",
        "# Flattening\n",
        "cnn.add(tf.keras.layers.Flatten())\n",
        "#cnn.add(tf.keras.layers.Dropout(0.3))\n",
        "cnn.add(Dropout(0.5))\n",
        "# Fully connected layer\n",
        "cnn.add(tf.keras.layers.Dense(units=512,activation='relu'))\n",
        "cnn.add(BatchNormalization())\n",
        "# Output layers\n",
        "cnn.add(tf.keras.layers.Dense(units=2,activation='softmax'))"
      ],
      "execution_count": null,
      "outputs": []
    },
    {
      "cell_type": "code",
      "metadata": {
        "colab": {
          "base_uri": "https://localhost:8080/"
        },
        "id": "3rXRT3wPj4ms",
        "outputId": "b1af8c28-73f7-4e87-b9a9-1feee85eefa2"
      },
      "source": [
        "cnn.summary()"
      ],
      "execution_count": null,
      "outputs": [
        {
          "output_type": "stream",
          "name": "stdout",
          "text": [
            "Model: \"sequential\"\n",
            "_________________________________________________________________\n",
            " Layer (type)                Output Shape              Param #   \n",
            "=================================================================\n",
            " conv2d (Conv2D)             (None, 224, 224, 32)      896       \n",
            "                                                                 \n",
            " max_pooling2d (MaxPooling2D  (None, 112, 112, 32)     0         \n",
            " )                                                               \n",
            "                                                                 \n",
            " dropout (Dropout)           (None, 112, 112, 32)      0         \n",
            "                                                                 \n",
            " conv2d_1 (Conv2D)           (None, 112, 112, 64)      18496     \n",
            "                                                                 \n",
            " max_pooling2d_1 (MaxPooling  (None, 56, 56, 64)       0         \n",
            " 2D)                                                             \n",
            "                                                                 \n",
            " dropout_1 (Dropout)         (None, 56, 56, 64)        0         \n",
            "                                                                 \n",
            " conv2d_2 (Conv2D)           (None, 56, 56, 64)        36928     \n",
            "                                                                 \n",
            " max_pooling2d_2 (MaxPooling  (None, 28, 28, 64)       0         \n",
            " 2D)                                                             \n",
            "                                                                 \n",
            " dropout_2 (Dropout)         (None, 28, 28, 64)        0         \n",
            "                                                                 \n",
            " conv2d_3 (Conv2D)           (None, 28, 28, 128)       73856     \n",
            "                                                                 \n",
            " max_pooling2d_3 (MaxPooling  (None, 14, 14, 128)      0         \n",
            " 2D)                                                             \n",
            "                                                                 \n",
            " dropout_3 (Dropout)         (None, 14, 14, 128)       0         \n",
            "                                                                 \n",
            " conv2d_4 (Conv2D)           (None, 14, 14, 256)       295168    \n",
            "                                                                 \n",
            " max_pooling2d_4 (MaxPooling  (None, 14, 14, 256)      0         \n",
            " 2D)                                                             \n",
            "                                                                 \n",
            " dropout_4 (Dropout)         (None, 14, 14, 256)       0         \n",
            "                                                                 \n",
            " flatten (Flatten)           (None, 50176)             0         \n",
            "                                                                 \n",
            " dropout_5 (Dropout)         (None, 50176)             0         \n",
            "                                                                 \n",
            " dense (Dense)               (None, 512)               25690624  \n",
            "                                                                 \n",
            " batch_normalization (BatchN  (None, 512)              2048      \n",
            " ormalization)                                                   \n",
            "                                                                 \n",
            " dense_1 (Dense)             (None, 2)                 1026      \n",
            "                                                                 \n",
            "=================================================================\n",
            "Total params: 26,119,042\n",
            "Trainable params: 26,118,018\n",
            "Non-trainable params: 1,024\n",
            "_________________________________________________________________\n"
          ]
        }
      ]
    },
    {
      "cell_type": "code",
      "metadata": {
        "id": "ChuWEROokDD8"
      },
      "source": [
        "from keras.callbacks import EarlyStopping\n",
        "\n",
        "checkpoint=tf.keras.callbacks.ModelCheckpoint('/content/gdrive/MyDrive/output/model.h5',\n",
        "                                           monitor='val_loss',mode=\"min\",save_best_only = True)\n",
        "# simple early stopping\n",
        "#es = EarlyStopping(monitor='val_loss', mode='max', verbose=1)"
      ],
      "execution_count": null,
      "outputs": []
    },
    {
      "cell_type": "code",
      "metadata": {
        "id": "ctHLEtrwZPp-"
      },
      "source": [
        "callbacks=checkpoint"
      ],
      "execution_count": null,
      "outputs": []
    },
    {
      "cell_type": "code",
      "metadata": {
        "colab": {
          "base_uri": "https://localhost:8080/"
        },
        "id": "lXjhLgazkMvk",
        "outputId": "761ce256-9cd1-4edd-c7ba-e282030b68b6"
      },
      "source": [
        "cnn.compile(optimizer='Adam',loss='categorical_crossentropy',metrics=['accuracy'])\n",
        "\n",
        "cnn.fit(train,validation_data=validation,epochs=100,\n",
        "                  steps_per_epoch=train.samples//batch_size,\n",
        "                  validation_steps=validation.samples//batch_size,\n",
        "              callbacks=callbacks\n",
        "                 )"
      ],
      "execution_count": null,
      "outputs": [
        {
          "output_type": "stream",
          "name": "stdout",
          "text": [
            "Epoch 1/100\n",
            "39/39 [==============================] - 479s 12s/step - loss: 1.0982 - accuracy: 0.5176 - val_loss: 0.6312 - val_accuracy: 0.6641\n",
            "Epoch 2/100\n",
            "39/39 [==============================] - 37s 948ms/step - loss: 0.7114 - accuracy: 0.5733 - val_loss: 0.5837 - val_accuracy: 0.7031\n",
            "Epoch 3/100\n",
            "39/39 [==============================] - 37s 956ms/step - loss: 0.6644 - accuracy: 0.6470 - val_loss: 0.5442 - val_accuracy: 0.7266\n",
            "Epoch 4/100\n",
            "39/39 [==============================] - 34s 870ms/step - loss: 0.6461 - accuracy: 0.6568 - val_loss: 0.8789 - val_accuracy: 0.5938\n",
            "Epoch 5/100\n",
            "39/39 [==============================] - 33s 847ms/step - loss: 0.6520 - accuracy: 0.6323 - val_loss: 0.5606 - val_accuracy: 0.7188\n",
            "Epoch 6/100\n",
            "39/39 [==============================] - 33s 841ms/step - loss: 0.5986 - accuracy: 0.6921 - val_loss: 1.0181 - val_accuracy: 0.4844\n",
            "Epoch 7/100\n",
            "39/39 [==============================] - 33s 844ms/step - loss: 0.6173 - accuracy: 0.6749 - val_loss: 0.6561 - val_accuracy: 0.6484\n",
            "Epoch 8/100\n",
            "39/39 [==============================] - 36s 924ms/step - loss: 0.5528 - accuracy: 0.7117 - val_loss: 0.4899 - val_accuracy: 0.7891\n",
            "Epoch 9/100\n",
            "39/39 [==============================] - 37s 965ms/step - loss: 0.6243 - accuracy: 0.6708 - val_loss: 0.4237 - val_accuracy: 0.7812\n",
            "Epoch 10/100\n",
            "39/39 [==============================] - 34s 873ms/step - loss: 0.5800 - accuracy: 0.7060 - val_loss: 0.4896 - val_accuracy: 0.8281\n",
            "Epoch 11/100\n",
            "39/39 [==============================] - 33s 848ms/step - loss: 0.5467 - accuracy: 0.7412 - val_loss: 0.4734 - val_accuracy: 0.7812\n",
            "Epoch 12/100\n",
            "39/39 [==============================] - 35s 902ms/step - loss: 0.5399 - accuracy: 0.7445 - val_loss: 1.0774 - val_accuracy: 0.6016\n",
            "Epoch 13/100\n",
            "39/39 [==============================] - 33s 856ms/step - loss: 0.5728 - accuracy: 0.7142 - val_loss: 0.6553 - val_accuracy: 0.6250\n",
            "Epoch 14/100\n",
            "39/39 [==============================] - 33s 842ms/step - loss: 0.4886 - accuracy: 0.7428 - val_loss: 0.4656 - val_accuracy: 0.7578\n",
            "Epoch 15/100\n",
            "39/39 [==============================] - 33s 838ms/step - loss: 0.4330 - accuracy: 0.8084 - val_loss: 0.6000 - val_accuracy: 0.5391\n",
            "Epoch 16/100\n",
            "39/39 [==============================] - 36s 923ms/step - loss: 0.4109 - accuracy: 0.8165 - val_loss: 0.4194 - val_accuracy: 0.8203\n",
            "Epoch 17/100\n",
            "39/39 [==============================] - 35s 892ms/step - loss: 0.4062 - accuracy: 0.8198 - val_loss: 0.9334 - val_accuracy: 0.5000\n",
            "Epoch 18/100\n",
            "39/39 [==============================] - 33s 830ms/step - loss: 0.4061 - accuracy: 0.8133 - val_loss: 0.5709 - val_accuracy: 0.6250\n",
            "Epoch 19/100\n",
            "39/39 [==============================] - 36s 930ms/step - loss: 0.4130 - accuracy: 0.8157 - val_loss: 0.4011 - val_accuracy: 0.8750\n",
            "Epoch 20/100\n",
            "39/39 [==============================] - 33s 842ms/step - loss: 0.3995 - accuracy: 0.8223 - val_loss: 0.7890 - val_accuracy: 0.6953\n",
            "Epoch 21/100\n",
            "39/39 [==============================] - 33s 850ms/step - loss: 0.4167 - accuracy: 0.8067 - val_loss: 0.5028 - val_accuracy: 0.7422\n",
            "Epoch 22/100\n",
            "39/39 [==============================] - 34s 872ms/step - loss: 0.3872 - accuracy: 0.8362 - val_loss: 0.5187 - val_accuracy: 0.6875\n",
            "Epoch 23/100\n",
            "39/39 [==============================] - 33s 847ms/step - loss: 0.3945 - accuracy: 0.8264 - val_loss: 0.7741 - val_accuracy: 0.5469\n",
            "Epoch 24/100\n",
            "39/39 [==============================] - 33s 833ms/step - loss: 0.3641 - accuracy: 0.8321 - val_loss: 1.2142 - val_accuracy: 0.4531\n",
            "Epoch 25/100\n",
            "39/39 [==============================] - 32s 829ms/step - loss: 0.3993 - accuracy: 0.8133 - val_loss: 0.4336 - val_accuracy: 0.7891\n",
            "Epoch 26/100\n",
            "39/39 [==============================] - 34s 883ms/step - loss: 0.4274 - accuracy: 0.8190 - val_loss: 1.1170 - val_accuracy: 0.6406\n",
            "Epoch 27/100\n",
            "39/39 [==============================] - 33s 849ms/step - loss: 0.4217 - accuracy: 0.8092 - val_loss: 0.5201 - val_accuracy: 0.8047\n",
            "Epoch 28/100\n",
            "39/39 [==============================] - 33s 836ms/step - loss: 0.3450 - accuracy: 0.8403 - val_loss: 0.7343 - val_accuracy: 0.5938\n",
            "Epoch 29/100\n",
            "39/39 [==============================] - 33s 854ms/step - loss: 0.3485 - accuracy: 0.8362 - val_loss: 0.4478 - val_accuracy: 0.8203\n",
            "Epoch 30/100\n",
            "39/39 [==============================] - 33s 847ms/step - loss: 0.3333 - accuracy: 0.8526 - val_loss: 0.4224 - val_accuracy: 0.8281\n",
            "Epoch 31/100\n",
            "39/39 [==============================] - 34s 870ms/step - loss: 0.3219 - accuracy: 0.8616 - val_loss: 0.4361 - val_accuracy: 0.7734\n",
            "Epoch 32/100\n",
            "39/39 [==============================] - 33s 832ms/step - loss: 0.3162 - accuracy: 0.8657 - val_loss: 1.0893 - val_accuracy: 0.6641\n",
            "Epoch 33/100\n",
            "39/39 [==============================] - 33s 834ms/step - loss: 0.2936 - accuracy: 0.8690 - val_loss: 0.4271 - val_accuracy: 0.7812\n",
            "Epoch 34/100\n",
            "39/39 [==============================] - 33s 835ms/step - loss: 0.3195 - accuracy: 0.8681 - val_loss: 2.8382 - val_accuracy: 0.5625\n",
            "Epoch 35/100\n",
            "39/39 [==============================] - 32s 849ms/step - loss: 0.4621 - accuracy: 0.7846 - val_loss: 0.4040 - val_accuracy: 0.8203\n",
            "Epoch 36/100\n",
            "39/39 [==============================] - 34s 868ms/step - loss: 0.3503 - accuracy: 0.8501 - val_loss: 0.4736 - val_accuracy: 0.7344\n",
            "Epoch 37/100\n",
            "39/39 [==============================] - 33s 849ms/step - loss: 0.3474 - accuracy: 0.8452 - val_loss: 0.6413 - val_accuracy: 0.6172\n",
            "Epoch 38/100\n",
            "39/39 [==============================] - 33s 838ms/step - loss: 0.3265 - accuracy: 0.8550 - val_loss: 0.4855 - val_accuracy: 0.7812\n",
            "Epoch 39/100\n",
            "39/39 [==============================] - 33s 844ms/step - loss: 0.3658 - accuracy: 0.8296 - val_loss: 3.9477 - val_accuracy: 0.5391\n",
            "Epoch 40/100\n",
            "39/39 [==============================] - 33s 847ms/step - loss: 0.4568 - accuracy: 0.8051 - val_loss: 0.5944 - val_accuracy: 0.7109\n",
            "Epoch 41/100\n",
            "39/39 [==============================] - 33s 838ms/step - loss: 0.3825 - accuracy: 0.8387 - val_loss: 0.5599 - val_accuracy: 0.6875\n",
            "Epoch 42/100\n",
            "39/39 [==============================] - 34s 880ms/step - loss: 0.3286 - accuracy: 0.8640 - val_loss: 0.6490 - val_accuracy: 0.6719\n",
            "Epoch 43/100\n",
            "39/39 [==============================] - 33s 856ms/step - loss: 0.2954 - accuracy: 0.8714 - val_loss: 2.2692 - val_accuracy: 0.4531\n",
            "Epoch 44/100\n",
            "39/39 [==============================] - 33s 853ms/step - loss: 0.2582 - accuracy: 0.8919 - val_loss: 1.3747 - val_accuracy: 0.5078\n",
            "Epoch 45/100\n",
            "39/39 [==============================] - 33s 852ms/step - loss: 0.2579 - accuracy: 0.8903 - val_loss: 2.4173 - val_accuracy: 0.4453\n",
            "Epoch 46/100\n",
            "39/39 [==============================] - 33s 851ms/step - loss: 0.2539 - accuracy: 0.9001 - val_loss: 1.1849 - val_accuracy: 0.5156\n",
            "Epoch 47/100\n",
            "39/39 [==============================] - 33s 849ms/step - loss: 0.2440 - accuracy: 0.8976 - val_loss: 0.4147 - val_accuracy: 0.7734\n",
            "Epoch 48/100\n",
            "39/39 [==============================] - 32s 838ms/step - loss: 0.1829 - accuracy: 0.9206 - val_loss: 1.9349 - val_accuracy: 0.4609\n",
            "Epoch 49/100\n",
            "39/39 [==============================] - 32s 831ms/step - loss: 0.3425 - accuracy: 0.8460 - val_loss: 0.6480 - val_accuracy: 0.6875\n",
            "Epoch 50/100\n",
            "39/39 [==============================] - 33s 832ms/step - loss: 0.3150 - accuracy: 0.8710 - val_loss: 1.9859 - val_accuracy: 0.4766\n",
            "Epoch 51/100\n",
            "39/39 [==============================] - 34s 870ms/step - loss: 0.2453 - accuracy: 0.9025 - val_loss: 1.8671 - val_accuracy: 0.4688\n",
            "Epoch 52/100\n",
            "39/39 [==============================] - 33s 834ms/step - loss: 0.2216 - accuracy: 0.9132 - val_loss: 1.5563 - val_accuracy: 0.4844\n",
            "Epoch 53/100\n",
            "39/39 [==============================] - 33s 838ms/step - loss: 0.3230 - accuracy: 0.8649 - val_loss: 3.8737 - val_accuracy: 0.4531\n",
            "Epoch 54/100\n",
            "39/39 [==============================] - 33s 841ms/step - loss: 0.6053 - accuracy: 0.6962 - val_loss: 0.6829 - val_accuracy: 0.6562\n",
            "Epoch 55/100\n",
            "39/39 [==============================] - 32s 837ms/step - loss: 0.5872 - accuracy: 0.7076 - val_loss: 0.6635 - val_accuracy: 0.6250\n",
            "Epoch 56/100\n",
            "39/39 [==============================] - 34s 862ms/step - loss: 0.5700 - accuracy: 0.7363 - val_loss: 0.5245 - val_accuracy: 0.8047\n",
            "Epoch 57/100\n",
            "39/39 [==============================] - 32s 829ms/step - loss: 0.5197 - accuracy: 0.7641 - val_loss: 0.9826 - val_accuracy: 0.4922\n",
            "Epoch 58/100\n",
            "39/39 [==============================] - 33s 832ms/step - loss: 0.4328 - accuracy: 0.8116 - val_loss: 0.7318 - val_accuracy: 0.4766\n",
            "Epoch 59/100\n",
            "39/39 [==============================] - 32s 825ms/step - loss: 0.3688 - accuracy: 0.8337 - val_loss: 0.7794 - val_accuracy: 0.4453\n",
            "Epoch 60/100\n",
            "39/39 [==============================] - 33s 841ms/step - loss: 0.2994 - accuracy: 0.8670 - val_loss: 2.3215 - val_accuracy: 0.4609\n",
            "Epoch 61/100\n",
            "39/39 [==============================] - 37s 961ms/step - loss: 0.2816 - accuracy: 0.8919 - val_loss: 0.2521 - val_accuracy: 0.9453\n",
            "Epoch 62/100\n",
            "39/39 [==============================] - 33s 859ms/step - loss: 0.2476 - accuracy: 0.8968 - val_loss: 0.5013 - val_accuracy: 0.6484\n",
            "Epoch 63/100\n",
            "39/39 [==============================] - 33s 842ms/step - loss: 0.3175 - accuracy: 0.8698 - val_loss: 0.4541 - val_accuracy: 0.8281\n",
            "Epoch 64/100\n",
            "39/39 [==============================] - 33s 831ms/step - loss: 0.2318 - accuracy: 0.9058 - val_loss: 0.5051 - val_accuracy: 0.8047\n",
            "Epoch 65/100\n",
            "39/39 [==============================] - 33s 844ms/step - loss: 0.2813 - accuracy: 0.8796 - val_loss: 0.5300 - val_accuracy: 0.7734\n",
            "Epoch 66/100\n",
            "39/39 [==============================] - 35s 891ms/step - loss: 0.2239 - accuracy: 0.9115 - val_loss: 0.3039 - val_accuracy: 0.8516\n",
            "Epoch 67/100\n",
            "39/39 [==============================] - 33s 849ms/step - loss: 0.2380 - accuracy: 0.9042 - val_loss: 0.2764 - val_accuracy: 0.8906\n",
            "Epoch 68/100\n",
            "39/39 [==============================] - 36s 937ms/step - loss: 0.1799 - accuracy: 0.9394 - val_loss: 0.2243 - val_accuracy: 0.8750\n",
            "Epoch 69/100\n",
            "39/39 [==============================] - 34s 865ms/step - loss: 0.2270 - accuracy: 0.9091 - val_loss: 0.7479 - val_accuracy: 0.5625\n",
            "Epoch 70/100\n",
            "39/39 [==============================] - 33s 839ms/step - loss: 0.4336 - accuracy: 0.7936 - val_loss: 3.0324 - val_accuracy: 0.4375\n",
            "Epoch 71/100\n",
            "39/39 [==============================] - 34s 880ms/step - loss: 0.5734 - accuracy: 0.6986 - val_loss: 2.8603 - val_accuracy: 0.5312\n",
            "Epoch 72/100\n",
            "39/39 [==============================] - 33s 847ms/step - loss: 0.6336 - accuracy: 0.6560 - val_loss: 0.8796 - val_accuracy: 0.5469\n",
            "Epoch 73/100\n",
            "39/39 [==============================] - 33s 846ms/step - loss: 0.6154 - accuracy: 0.6683 - val_loss: 0.6272 - val_accuracy: 0.6562\n",
            "Epoch 74/100\n",
            "39/39 [==============================] - 33s 833ms/step - loss: 0.5075 - accuracy: 0.7592 - val_loss: 0.3787 - val_accuracy: 0.8594\n",
            "Epoch 75/100\n",
            "39/39 [==============================] - 34s 881ms/step - loss: 0.4791 - accuracy: 0.7789 - val_loss: 0.5050 - val_accuracy: 0.7969\n",
            "Epoch 76/100\n",
            "39/39 [==============================] - 33s 848ms/step - loss: 0.5223 - accuracy: 0.7453 - val_loss: 3.0958 - val_accuracy: 0.4453\n",
            "Epoch 77/100\n",
            "39/39 [==============================] - 33s 854ms/step - loss: 0.5425 - accuracy: 0.7371 - val_loss: 0.6972 - val_accuracy: 0.6328\n",
            "Epoch 78/100\n",
            "39/39 [==============================] - 33s 839ms/step - loss: 0.4628 - accuracy: 0.7797 - val_loss: 0.4382 - val_accuracy: 0.8281\n",
            "Epoch 79/100\n",
            "39/39 [==============================] - 33s 838ms/step - loss: 0.4571 - accuracy: 0.7895 - val_loss: 0.4349 - val_accuracy: 0.8047\n",
            "Epoch 80/100\n",
            "39/39 [==============================] - 35s 894ms/step - loss: 0.5010 - accuracy: 0.7576 - val_loss: 0.7465 - val_accuracy: 0.6250\n",
            "Epoch 81/100\n",
            "39/39 [==============================] - 33s 846ms/step - loss: 0.5092 - accuracy: 0.7494 - val_loss: 1.0253 - val_accuracy: 0.5312\n",
            "Epoch 82/100\n",
            "39/39 [==============================] - 33s 852ms/step - loss: 0.4658 - accuracy: 0.7723 - val_loss: 0.3316 - val_accuracy: 0.8438\n",
            "Epoch 83/100\n",
            "39/39 [==============================] - 33s 845ms/step - loss: 0.4234 - accuracy: 0.8084 - val_loss: 0.3886 - val_accuracy: 0.8203\n",
            "Epoch 84/100\n",
            "39/39 [==============================] - 33s 849ms/step - loss: 0.4169 - accuracy: 0.8247 - val_loss: 0.9947 - val_accuracy: 0.6641\n",
            "Epoch 85/100\n",
            "39/39 [==============================] - 34s 876ms/step - loss: 0.4843 - accuracy: 0.7731 - val_loss: 0.3221 - val_accuracy: 0.8672\n",
            "Epoch 86/100\n",
            "39/39 [==============================] - 33s 854ms/step - loss: 0.4227 - accuracy: 0.8165 - val_loss: 0.3244 - val_accuracy: 0.8516\n",
            "Epoch 87/100\n",
            "39/39 [==============================] - 33s 852ms/step - loss: 0.3871 - accuracy: 0.8272 - val_loss: 0.4093 - val_accuracy: 0.8281\n",
            "Epoch 88/100\n",
            "39/39 [==============================] - 33s 845ms/step - loss: 0.3552 - accuracy: 0.8305 - val_loss: 0.3156 - val_accuracy: 0.8594\n",
            "Epoch 89/100\n",
            "39/39 [==============================] - 33s 839ms/step - loss: 0.3337 - accuracy: 0.8518 - val_loss: 0.4488 - val_accuracy: 0.8047\n",
            "Epoch 90/100\n",
            "39/39 [==============================] - 34s 863ms/step - loss: 0.2800 - accuracy: 0.8837 - val_loss: 1.0938 - val_accuracy: 0.6641\n",
            "Epoch 91/100\n",
            "39/39 [==============================] - 33s 851ms/step - loss: 0.3131 - accuracy: 0.8608 - val_loss: 0.7070 - val_accuracy: 0.7656\n",
            "Epoch 92/100\n",
            "39/39 [==============================] - 33s 856ms/step - loss: 0.3958 - accuracy: 0.8403 - val_loss: 2.1260 - val_accuracy: 0.5469\n",
            "Epoch 93/100\n",
            "39/39 [==============================] - 33s 848ms/step - loss: 0.2765 - accuracy: 0.8853 - val_loss: 0.9830 - val_accuracy: 0.7188\n",
            "Epoch 94/100\n",
            "39/39 [==============================] - 34s 884ms/step - loss: 0.2360 - accuracy: 0.8927 - val_loss: 0.4758 - val_accuracy: 0.8438\n",
            "Epoch 95/100\n",
            "39/39 [==============================] - 33s 835ms/step - loss: 0.2246 - accuracy: 0.9034 - val_loss: 0.2296 - val_accuracy: 0.9141\n",
            "Epoch 96/100\n",
            "39/39 [==============================] - 33s 842ms/step - loss: 0.2382 - accuracy: 0.8984 - val_loss: 0.2383 - val_accuracy: 0.9062\n",
            "Epoch 97/100\n",
            "39/39 [==============================] - 33s 856ms/step - loss: 0.1849 - accuracy: 0.9255 - val_loss: 0.2782 - val_accuracy: 0.8672\n",
            "Epoch 98/100\n",
            "39/39 [==============================] - 33s 855ms/step - loss: 0.1955 - accuracy: 0.9304 - val_loss: 0.2458 - val_accuracy: 0.9062\n",
            "Epoch 99/100\n",
            "39/39 [==============================] - 37s 969ms/step - loss: 0.1539 - accuracy: 0.9394 - val_loss: 0.1810 - val_accuracy: 0.9062\n",
            "Epoch 100/100\n",
            "39/39 [==============================] - 34s 861ms/step - loss: 0.1365 - accuracy: 0.9468 - val_loss: 0.3759 - val_accuracy: 0.8516\n"
          ]
        },
        {
          "output_type": "execute_result",
          "data": {
            "text/plain": [
              "<keras.callbacks.History at 0x7f35f7030650>"
            ]
          },
          "metadata": {},
          "execution_count": 15
        }
      ]
    },
    {
      "cell_type": "code",
      "metadata": {
        "id": "t87k0scSkZRv"
      },
      "source": [
        "from tensorflow.keras.models import load_model\n",
        "cnn=load_model('/content/gdrive/MyDrive/output/model.h5')"
      ],
      "execution_count": null,
      "outputs": []
    },
    {
      "cell_type": "code",
      "metadata": {
        "id": "VTM-tbKLMKK4"
      },
      "source": [
        "from tensorflow.keras.preprocessing import image\n",
        "import numpy as np\n",
        "import matplotlib.pyplot as plt\n",
        "import PIL"
      ],
      "execution_count": null,
      "outputs": []
    },
    {
      "cell_type": "code",
      "metadata": {
        "id": "b_1OMO61MZu1"
      },
      "source": [
        "def pred(a):\n",
        "    test_image=image.load_img(a,target_size=(224,224))\n",
        "    test_image=image.img_to_array(test_image)\n",
        "    test_image=test_image/255\n",
        "    test_image=np.expand_dims(test_image,axis=0)\n",
        "    result=cnn.predict(test_image)\n",
        "\n",
        "    Catagories=['disaster','non-disaster']\n",
        "\n",
        "    image_show=PIL.Image.open(a)\n",
        "    plt.imshow(image_show)\n",
        "\n",
        "    plt.title(Catagories[int(np.argmax(result))])\n",
        "    plt.show()"
      ],
      "execution_count": null,
      "outputs": []
    },
    {
      "cell_type": "code",
      "source": [
        "import os\n",
        "base_path = \"/content/gdrive/MyDrive/test\"\n",
        "a = os.listdir(\"/content/gdrive/MyDrive/test\")\n",
        "for i in a:\n",
        "  path = base_path + '/' + i\n",
        "  pred(path)"
      ],
      "metadata": {
        "id": "VkkmGMJhy7CQ"
      },
      "execution_count": null,
      "outputs": []
    },
    {
      "cell_type": "code",
      "source": [],
      "metadata": {
        "id": "sFWm0rVwz8XJ"
      },
      "execution_count": null,
      "outputs": []
    }
  ]
}