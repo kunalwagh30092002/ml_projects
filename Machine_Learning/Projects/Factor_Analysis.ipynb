{
 "cells": [
  {
   "cell_type": "code",
   "execution_count": 55,
   "id": "b9608071",
   "metadata": {},
   "outputs": [],
   "source": [
    "import numpy as np\n",
    "import pandas as pd\n",
    "from sklearn.model_selection import train_test_split\n",
    "from sklearn.preprocessing import StandardScaler\n",
    "from sklearn.decomposition import FactorAnalysis as FA\n",
    "from sklearn.ensemble import RandomForestClassifier\n",
    "from sklearn.metrics import confusion_matrix\n",
    "from sklearn.metrics import accuracy_score\n",
    "from sklearn.decomposition import PCA"
   ]
  },
  {
   "cell_type": "code",
   "execution_count": 56,
   "id": "a8625f66",
   "metadata": {},
   "outputs": [],
   "source": [
    "url = \"https://archive.ics.uci.edu/ml/machine-learning-databases/iris/iris.data\"\n",
    "names = ['sepal-length' , 'sepal-width' , 'petal-length' , 'petal-width' , 'Class']\n",
    "dataset = pd.read_csv(url,names=names)"
   ]
  },
  {
   "cell_type": "code",
   "execution_count": 57,
   "id": "8fc1973a",
   "metadata": {},
   "outputs": [],
   "source": [
    "X = dataset.iloc[:,0:4].values\n",
    "y = dataset.iloc[:,4].values"
   ]
  },
  {
   "cell_type": "code",
   "execution_count": 58,
   "id": "765801d6",
   "metadata": {},
   "outputs": [],
   "source": [
    "X_train , X_test , y_train,y_test = train_test_split(X,y,test_size=0.3,random_state=0)"
   ]
  },
  {
   "cell_type": "code",
   "execution_count": 59,
   "id": "a0870567",
   "metadata": {},
   "outputs": [],
   "source": [
    "sc = StandardScaler()\n",
    "X_train = sc.fit_transform(X_train)\n",
    "X_test = sc.transform(X_test)"
   ]
  },
  {
   "cell_type": "code",
   "execution_count": 60,
   "id": "41812c65",
   "metadata": {},
   "outputs": [],
   "source": [
    "classifier = RandomForestClassifier(max_depth=2,random_state=0)\n",
    "classifier.fit(X_train,y_train)\n",
    "y_pred = classifier.predict(X_test)"
   ]
  },
  {
   "cell_type": "code",
   "execution_count": 61,
   "id": "58ceb8e9",
   "metadata": {},
   "outputs": [
    {
     "name": "stdout",
     "output_type": "stream",
     "text": [
      "[[16  0  0]\n",
      " [ 0 17  1]\n",
      " [ 0  0 11]]\n",
      "Accuracy0.9777777777777777\n"
     ]
    }
   ],
   "source": [
    "cm = confusion_matrix(y_test,y_pred)\n",
    "print(cm)\n",
    "print('Accuracy'+str(accuracy_score(y_test,y_pred)))"
   ]
  },
  {
   "cell_type": "code",
   "execution_count": 62,
   "id": "2bc0e7cb",
   "metadata": {
    "scrolled": true
   },
   "outputs": [],
   "source": [
    "fa =FA(n_components=1)\n",
    "X_train = fa.fit_transform(X_train)\n",
    "X_test = fa.transform(X_test)"
   ]
  },
  {
   "cell_type": "code",
   "execution_count": 63,
   "id": "2a3e922d",
   "metadata": {},
   "outputs": [],
   "source": [
    "classifier = RandomForestClassifier(max_depth=2,random_state=0)\n",
    "classifier.fit(X_train,y_train)\n",
    "y_pred = classifier.predict(X_test)"
   ]
  },
  {
   "cell_type": "code",
   "execution_count": 64,
   "id": "2d8bb8e1",
   "metadata": {},
   "outputs": [
    {
     "name": "stdout",
     "output_type": "stream",
     "text": [
      "[[16  0  0]\n",
      " [ 0 17  1]\n",
      " [ 0  1 10]]\n",
      "Accuracy0.9555555555555556\n"
     ]
    }
   ],
   "source": [
    "cm = confusion_matrix(y_test,y_pred)\n",
    "print(cm)\n",
    "print('Accuracy'+str(accuracy_score(y_test,y_pred)))"
   ]
  },
  {
   "cell_type": "code",
   "execution_count": 65,
   "id": "38b392d8",
   "metadata": {},
   "outputs": [],
   "source": [
    "def perform_pca(n):\n",
    "    X_train , X_test ,y_train ,y_test = train_test_split(X,y,test_size=0.3,random_state=0)\n",
    "    pca = PCA(n_components = n)\n",
    "    pca_x_train = pca.fit_transform(X_train)\n",
    "    pca_x_test = pca.transform(X_test)\n",
    "    classifier = RandomForestClassifier(max_depth = 2,random_state=0)\n",
    "    classifier.fit(pca_x_train,y_train)\n",
    "    y_pred = classifier.predict(pca_x_test)\n",
    "    cm = confusion_matrix(y_test,y_pred)\n",
    "    print(cm)\n",
    "    print('Acuracy {0}\\n\\n'.format(accuracy_score(y_test,y_pred)))"
   ]
  },
  {
   "cell_type": "code",
   "execution_count": 66,
   "id": "8bc841fd",
   "metadata": {},
   "outputs": [
    {
     "name": "stdout",
     "output_type": "stream",
     "text": [
      "[[16  0  0]\n",
      " [ 0 15  3]\n",
      " [ 0  1 10]]\n",
      "Acuracy 0.9111111111111111\n",
      "\n",
      "\n",
      "[[16  0  0]\n",
      " [ 0 15  3]\n",
      " [ 0  1 10]]\n",
      "Acuracy 0.9111111111111111\n",
      "\n",
      "\n",
      "[[16  0  0]\n",
      " [ 0  9  9]\n",
      " [ 0  1 10]]\n",
      "Acuracy 0.7777777777777778\n",
      "\n",
      "\n",
      "[[16  0  0]\n",
      " [ 0 15  3]\n",
      " [ 0  1 10]]\n",
      "Acuracy 0.9111111111111111\n",
      "\n",
      "\n"
     ]
    }
   ],
   "source": [
    "for x in range(1,5):\n",
    "    perform_pca(x)"
   ]
  },
  {
   "cell_type": "code",
   "execution_count": null,
   "id": "2d81ef50",
   "metadata": {},
   "outputs": [],
   "source": []
  }
 ],
 "metadata": {
  "kernelspec": {
   "display_name": "Python 3",
   "language": "python",
   "name": "python3"
  },
  "language_info": {
   "codemirror_mode": {
    "name": "ipython",
    "version": 3
   },
   "file_extension": ".py",
   "mimetype": "text/x-python",
   "name": "python",
   "nbconvert_exporter": "python",
   "pygments_lexer": "ipython3",
   "version": "3.9.12"
  }
 },
 "nbformat": 4,
 "nbformat_minor": 5
}
